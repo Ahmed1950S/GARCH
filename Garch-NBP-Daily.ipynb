{
 "cells": [
  {
   "cell_type": "code",
   "execution_count": 1,
   "id": "b8b42692",
   "metadata": {},
   "outputs": [],
   "source": [
    "import numpy as np\n",
    "import pandas as pd\n",
    "from arch import arch_model\n",
    "import matplotlib.pyplot as plt\n",
    "import seaborn as sns"
   ]
  },
  {
   "cell_type": "code",
   "execution_count": 2,
   "id": "b0690dd2",
   "metadata": {},
   "outputs": [],
   "source": [
    "\n",
    "# Fit GARCH model function\n",
    "def fit_garch(df, vol='Garch', p=1, q=1, dist='Normal'):\n",
    "    # Calculate the log returns\n",
    "    log_returns = np.log(df / df.shift(1)).dropna()\n",
    "\n",
    "    # Fit the GARCH model\n",
    "    model = arch_model(log_returns, vol=vol, p=p, q=q, dist=dist)\n",
    "    results = model.fit(update_freq=0, disp='off')\n",
    "\n",
    "    return results\n",
    "\n"
   ]
  },
  {
   "cell_type": "code",
   "execution_count": 3,
   "id": "fca7b382",
   "metadata": {
    "scrolled": true
   },
   "outputs": [],
   "source": [
    "# Load Data\n",
    "df = pd.read_excel(\"Daily closes.xlsx\", \"UK Nat Gas 1st Month Daily\")"
   ]
  },
  {
   "cell_type": "code",
   "execution_count": 4,
   "id": "4c18539f",
   "metadata": {},
   "outputs": [
    {
     "data": {
      "text/html": [
       "<div>\n",
       "<style scoped>\n",
       "    .dataframe tbody tr th:only-of-type {\n",
       "        vertical-align: middle;\n",
       "    }\n",
       "\n",
       "    .dataframe tbody tr th {\n",
       "        vertical-align: top;\n",
       "    }\n",
       "\n",
       "    .dataframe thead th {\n",
       "        text-align: right;\n",
       "    }\n",
       "</style>\n",
       "<table border=\"1\" class=\"dataframe\">\n",
       "  <thead>\n",
       "    <tr style=\"text-align: right;\">\n",
       "      <th></th>\n",
       "      <th>Date</th>\n",
       "      <th>FN1 Comdty - Last Price</th>\n",
       "      <th>FN1 Comdty - Open Interest</th>\n",
       "      <th>FN1 Comdty - Volume</th>\n",
       "    </tr>\n",
       "  </thead>\n",
       "  <tbody>\n",
       "    <tr>\n",
       "      <th>2670</th>\n",
       "      <td>2012-12-14</td>\n",
       "      <td>67.11</td>\n",
       "      <td>23030.0</td>\n",
       "      <td>5945.0</td>\n",
       "    </tr>\n",
       "    <tr>\n",
       "      <th>2671</th>\n",
       "      <td>2012-12-13</td>\n",
       "      <td>66.70</td>\n",
       "      <td>24255.0</td>\n",
       "      <td>5760.0</td>\n",
       "    </tr>\n",
       "    <tr>\n",
       "      <th>2672</th>\n",
       "      <td>2012-12-12</td>\n",
       "      <td>66.91</td>\n",
       "      <td>23660.0</td>\n",
       "      <td>5200.0</td>\n",
       "    </tr>\n",
       "    <tr>\n",
       "      <th>2673</th>\n",
       "      <td>2012-12-11</td>\n",
       "      <td>66.77</td>\n",
       "      <td>24555.0</td>\n",
       "      <td>6300.0</td>\n",
       "    </tr>\n",
       "    <tr>\n",
       "      <th>2674</th>\n",
       "      <td>2012-12-10</td>\n",
       "      <td>67.37</td>\n",
       "      <td>23885.0</td>\n",
       "      <td>9685.0</td>\n",
       "    </tr>\n",
       "  </tbody>\n",
       "</table>\n",
       "</div>"
      ],
      "text/plain": [
       "           Date  FN1 Comdty - Last Price  FN1 Comdty - Open Interest  \\\n",
       "2670 2012-12-14                    67.11                     23030.0   \n",
       "2671 2012-12-13                    66.70                     24255.0   \n",
       "2672 2012-12-12                    66.91                     23660.0   \n",
       "2673 2012-12-11                    66.77                     24555.0   \n",
       "2674 2012-12-10                    67.37                     23885.0   \n",
       "\n",
       "      FN1 Comdty - Volume  \n",
       "2670               5945.0  \n",
       "2671               5760.0  \n",
       "2672               5200.0  \n",
       "2673               6300.0  \n",
       "2674               9685.0  "
      ]
     },
     "execution_count": 4,
     "metadata": {},
     "output_type": "execute_result"
    }
   ],
   "source": [
    "df.tail()"
   ]
  },
  {
   "cell_type": "code",
   "execution_count": 5,
   "id": "1dcfd32b",
   "metadata": {},
   "outputs": [],
   "source": [
    "drop_list = [\"FN1 Comdty - Volume\", \"FN1 Comdty - Open Interest\"]"
   ]
  },
  {
   "cell_type": "code",
   "execution_count": 6,
   "id": "77acf9f3",
   "metadata": {},
   "outputs": [],
   "source": [
    "df.drop(drop_list, inplace=True, axis=1)"
   ]
  },
  {
   "cell_type": "code",
   "execution_count": 7,
   "id": "fe413d82",
   "metadata": {},
   "outputs": [],
   "source": [
    "df.set_index(\"Date\", inplace=True)"
   ]
  },
  {
   "cell_type": "code",
   "execution_count": 8,
   "id": "f8387f5b",
   "metadata": {},
   "outputs": [
    {
     "data": {
      "text/html": [
       "<div>\n",
       "<style scoped>\n",
       "    .dataframe tbody tr th:only-of-type {\n",
       "        vertical-align: middle;\n",
       "    }\n",
       "\n",
       "    .dataframe tbody tr th {\n",
       "        vertical-align: top;\n",
       "    }\n",
       "\n",
       "    .dataframe thead th {\n",
       "        text-align: right;\n",
       "    }\n",
       "</style>\n",
       "<table border=\"1\" class=\"dataframe\">\n",
       "  <thead>\n",
       "    <tr style=\"text-align: right;\">\n",
       "      <th></th>\n",
       "      <th>FN1 Comdty - Last Price</th>\n",
       "    </tr>\n",
       "    <tr>\n",
       "      <th>Date</th>\n",
       "      <th></th>\n",
       "    </tr>\n",
       "  </thead>\n",
       "  <tbody>\n",
       "    <tr>\n",
       "      <th>2012-12-14</th>\n",
       "      <td>67.11</td>\n",
       "    </tr>\n",
       "    <tr>\n",
       "      <th>2012-12-13</th>\n",
       "      <td>66.70</td>\n",
       "    </tr>\n",
       "    <tr>\n",
       "      <th>2012-12-12</th>\n",
       "      <td>66.91</td>\n",
       "    </tr>\n",
       "    <tr>\n",
       "      <th>2012-12-11</th>\n",
       "      <td>66.77</td>\n",
       "    </tr>\n",
       "    <tr>\n",
       "      <th>2012-12-10</th>\n",
       "      <td>67.37</td>\n",
       "    </tr>\n",
       "  </tbody>\n",
       "</table>\n",
       "</div>"
      ],
      "text/plain": [
       "            FN1 Comdty - Last Price\n",
       "Date                               \n",
       "2012-12-14                    67.11\n",
       "2012-12-13                    66.70\n",
       "2012-12-12                    66.91\n",
       "2012-12-11                    66.77\n",
       "2012-12-10                    67.37"
      ]
     },
     "execution_count": 8,
     "metadata": {},
     "output_type": "execute_result"
    }
   ],
   "source": [
    "df.tail()"
   ]
  },
  {
   "cell_type": "code",
   "execution_count": 9,
   "id": "dfea888f",
   "metadata": {},
   "outputs": [
    {
     "data": {
      "text/html": [
       "<div>\n",
       "<style scoped>\n",
       "    .dataframe tbody tr th:only-of-type {\n",
       "        vertical-align: middle;\n",
       "    }\n",
       "\n",
       "    .dataframe tbody tr th {\n",
       "        vertical-align: top;\n",
       "    }\n",
       "\n",
       "    .dataframe thead th {\n",
       "        text-align: right;\n",
       "    }\n",
       "</style>\n",
       "<table border=\"1\" class=\"dataframe\">\n",
       "  <thead>\n",
       "    <tr style=\"text-align: right;\">\n",
       "      <th></th>\n",
       "      <th>FN1 Comdty - Last Price</th>\n",
       "    </tr>\n",
       "    <tr>\n",
       "      <th>Date</th>\n",
       "      <th></th>\n",
       "    </tr>\n",
       "  </thead>\n",
       "  <tbody>\n",
       "    <tr>\n",
       "      <th>2012-12-14</th>\n",
       "      <td>67.11</td>\n",
       "    </tr>\n",
       "    <tr>\n",
       "      <th>2012-12-13</th>\n",
       "      <td>66.70</td>\n",
       "    </tr>\n",
       "    <tr>\n",
       "      <th>2012-12-12</th>\n",
       "      <td>66.91</td>\n",
       "    </tr>\n",
       "    <tr>\n",
       "      <th>2012-12-11</th>\n",
       "      <td>66.77</td>\n",
       "    </tr>\n",
       "    <tr>\n",
       "      <th>2012-12-10</th>\n",
       "      <td>67.37</td>\n",
       "    </tr>\n",
       "  </tbody>\n",
       "</table>\n",
       "</div>"
      ],
      "text/plain": [
       "            FN1 Comdty - Last Price\n",
       "Date                               \n",
       "2012-12-14                    67.11\n",
       "2012-12-13                    66.70\n",
       "2012-12-12                    66.91\n",
       "2012-12-11                    66.77\n",
       "2012-12-10                    67.37"
      ]
     },
     "execution_count": 9,
     "metadata": {},
     "output_type": "execute_result"
    }
   ],
   "source": [
    "df.tail()"
   ]
  },
  {
   "cell_type": "code",
   "execution_count": 10,
   "id": "c345812f",
   "metadata": {},
   "outputs": [
    {
     "name": "stderr",
     "output_type": "stream",
     "text": [
      "/Users/mus/opt/anaconda3/lib/python3.9/site-packages/arch/univariate/base.py:309: DataScaleWarning: y is poorly scaled, which may affect convergence of the optimizer when\n",
      "estimating the model parameters. The scale of y is 0.002318. Parameter\n",
      "estimation work better when this value is between 1 and 1000. The recommended\n",
      "rescaling is 10 * y.\n",
      "\n",
      "This warning can be disabled by either rescaling y before initializing the\n",
      "model or by setting rescale=False.\n",
      "\n",
      "  warnings.warn(\n"
     ]
    }
   ],
   "source": [
    "# Fit a GARCH(1, 1) model\n",
    "garch_results = fit_garch(df)"
   ]
  },
  {
   "cell_type": "code",
   "execution_count": 11,
   "id": "b844636a",
   "metadata": {},
   "outputs": [],
   "source": [
    "# Extract standardized residuals and conditional volatility\n",
    "residuals = garch_results.resid\n",
    "conditional_volatility = garch_results.conditional_volatility\n",
    "\n",
    "# Combine the residuals and conditional volatility in a new DataFrame\n",
    "plot_data = pd.DataFrame({'Standardized Residuals': residuals, 'Conditional Volatility': conditional_volatility})\n"
   ]
  },
  {
   "cell_type": "code",
   "execution_count": 12,
   "id": "0dd40090",
   "metadata": {},
   "outputs": [
    {
     "data": {
      "text/html": [
       "<div>\n",
       "<style scoped>\n",
       "    .dataframe tbody tr th:only-of-type {\n",
       "        vertical-align: middle;\n",
       "    }\n",
       "\n",
       "    .dataframe tbody tr th {\n",
       "        vertical-align: top;\n",
       "    }\n",
       "\n",
       "    .dataframe thead th {\n",
       "        text-align: right;\n",
       "    }\n",
       "</style>\n",
       "<table border=\"1\" class=\"dataframe\">\n",
       "  <thead>\n",
       "    <tr style=\"text-align: right;\">\n",
       "      <th></th>\n",
       "      <th>Standardized Residuals</th>\n",
       "      <th>Conditional Volatility</th>\n",
       "    </tr>\n",
       "    <tr>\n",
       "      <th>Date</th>\n",
       "      <th></th>\n",
       "      <th></th>\n",
       "    </tr>\n",
       "  </thead>\n",
       "  <tbody>\n",
       "    <tr>\n",
       "      <th>2012-12-14</th>\n",
       "      <td>0.006472</td>\n",
       "      <td>0.017368</td>\n",
       "    </tr>\n",
       "    <tr>\n",
       "      <th>2012-12-13</th>\n",
       "      <td>-0.006234</td>\n",
       "      <td>0.017030</td>\n",
       "    </tr>\n",
       "    <tr>\n",
       "      <th>2012-12-12</th>\n",
       "      <td>0.003038</td>\n",
       "      <td>0.016744</td>\n",
       "    </tr>\n",
       "    <tr>\n",
       "      <th>2012-12-11</th>\n",
       "      <td>-0.002200</td>\n",
       "      <td>0.016337</td>\n",
       "    </tr>\n",
       "    <tr>\n",
       "      <th>2012-12-10</th>\n",
       "      <td>0.008840</td>\n",
       "      <td>0.015985</td>\n",
       "    </tr>\n",
       "  </tbody>\n",
       "</table>\n",
       "</div>"
      ],
      "text/plain": [
       "            Standardized Residuals  Conditional Volatility\n",
       "Date                                                      \n",
       "2012-12-14                0.006472                0.017368\n",
       "2012-12-13               -0.006234                0.017030\n",
       "2012-12-12                0.003038                0.016744\n",
       "2012-12-11               -0.002200                0.016337\n",
       "2012-12-10                0.008840                0.015985"
      ]
     },
     "execution_count": 12,
     "metadata": {},
     "output_type": "execute_result"
    }
   ],
   "source": [
    "plot_data.tail()"
   ]
  },
  {
   "cell_type": "code",
   "execution_count": 13,
   "id": "71bb00b5",
   "metadata": {},
   "outputs": [],
   "source": [
    "def monthly_averages(df):\n",
    "    # Ensure that the index is a DateTimeIndex\n",
    "    if not isinstance(df.index, pd.DatetimeIndex):\n",
    "        df.index = pd.to_datetime(df.index)\n",
    "\n",
    "    # Resample the DataFrame to a monthly frequency and calculate mean\n",
    "    monthly_average_df = df.resample('M').mean()\n",
    "\n",
    "    return monthly_average_df\n",
    "\n",
    "# usage\n",
    "df_monthly = monthly_averages(plot_data)"
   ]
  },
  {
   "cell_type": "code",
   "execution_count": 14,
   "id": "55241a0a",
   "metadata": {},
   "outputs": [],
   "source": [
    "md=df_monthly.tail(24)"
   ]
  },
  {
   "cell_type": "code",
   "execution_count": 15,
   "id": "85eb53af",
   "metadata": {},
   "outputs": [
    {
     "data": {
      "text/plain": [
       "0.03153994779560986"
      ]
     },
     "execution_count": 15,
     "metadata": {},
     "output_type": "execute_result"
    }
   ],
   "source": [
    "md[\"Conditional Volatility\"].std()"
   ]
  },
  {
   "cell_type": "code",
   "execution_count": 17,
   "id": "46bb4da7",
   "metadata": {},
   "outputs": [],
   "source": [
    "md.to_excel(\"NBP_monthly.xlsx\")"
   ]
  },
  {
   "cell_type": "code",
   "execution_count": null,
   "id": "8c77b273",
   "metadata": {},
   "outputs": [],
   "source": [
    "# Set Seaborn style\n",
    "sns.set(style='whitegrid')\n",
    "\n",
    "# Create subplots\n",
    "fig, axes = plt.subplots(nrows=2, ncols=1, figsize=(10, 8), sharex=True)\n",
    "\n",
    "# Plot standardized residuals\n",
    "sns.lineplot(data=plot_data['Standardized Residuals'], ax=axes[0], color='blue')\n",
    "axes[0].set_title('Standardized Residuals')\n",
    "\n",
    "# Plot conditional volatility\n",
    "sns.lineplot(data=plot_data['Conditional Volatility'], ax=axes[1], color='red')\n",
    "axes[1].set_title('Conditional Volatility')\n",
    "\n",
    "# Display the plots\n",
    "plt.tight_layout()\n",
    "plt.savefig(\"Garch-NBP-Daily.png\")"
   ]
  },
  {
   "cell_type": "code",
   "execution_count": null,
   "id": "7465dbd2",
   "metadata": {},
   "outputs": [],
   "source": []
  }
 ],
 "metadata": {
  "kernelspec": {
   "display_name": "Python 3 (ipykernel)",
   "language": "python",
   "name": "python3"
  },
  "language_info": {
   "codemirror_mode": {
    "name": "ipython",
    "version": 3
   },
   "file_extension": ".py",
   "mimetype": "text/x-python",
   "name": "python",
   "nbconvert_exporter": "python",
   "pygments_lexer": "ipython3",
   "version": "3.9.13"
  }
 },
 "nbformat": 4,
 "nbformat_minor": 5
}
